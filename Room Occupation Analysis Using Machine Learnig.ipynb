{
 "cells": [
  {
   "cell_type": "code",
   "execution_count": 3,
   "id": "01c3c0d5",
   "metadata": {},
   "outputs": [],
   "source": [
    "import numpy as np\n",
    "import pandas as pd\n",
    "import matplotlib.pyplot as plt\n",
    "import seaborn as sns"
   ]
  },
  {
   "cell_type": "code",
   "execution_count": 4,
   "id": "7cf9887a",
   "metadata": {},
   "outputs": [],
   "source": [
    "import os"
   ]
  },
  {
   "cell_type": "code",
   "execution_count": 5,
   "id": "24ded63c",
   "metadata": {},
   "outputs": [
    {
     "data": {
      "text/plain": [
       "['.ipynb_checkpoints',\n",
       " 'Occupancy.csv',\n",
       " 'Room Occupation Analysis Using Machine Learnig.ipynb']"
      ]
     },
     "execution_count": 5,
     "metadata": {},
     "output_type": "execute_result"
    }
   ],
   "source": [
    "os.listdir()"
   ]
  },
  {
   "cell_type": "code",
   "execution_count": 6,
   "id": "8d27ae42",
   "metadata": {},
   "outputs": [],
   "source": [
    "df=pd.read_csv( 'Occupancy.csv')"
   ]
  },
  {
   "cell_type": "code",
   "execution_count": 7,
   "id": "b444da4f",
   "metadata": {},
   "outputs": [
    {
     "data": {
      "text/html": [
       "<div><div id=b646647d-cb73-4655-9eb3-7f70ee8d53cf style=\"display:none; background-color:#9D6CFF; color:white; width:200px; height:30px; padding-left:5px; border-radius:4px; flex-direction:row; justify-content:space-around; align-items:center;\" onmouseover=\"this.style.backgroundColor='#BA9BF8'\" onmouseout=\"this.style.backgroundColor='#9D6CFF'\" onclick=\"window.commands?.execute('create-mitosheet-from-dataframe-output');\">See Full Dataframe in Mito</div> <script> if (window.commands.hasCommand('create-mitosheet-from-dataframe-output')) document.getElementById('b646647d-cb73-4655-9eb3-7f70ee8d53cf').style.display = 'flex' </script> <table border=\"1\" class=\"dataframe\">\n",
       "  <thead>\n",
       "    <tr style=\"text-align: right;\">\n",
       "      <th></th>\n",
       "      <th>date</th>\n",
       "      <th>Temperature</th>\n",
       "      <th>Humidity</th>\n",
       "      <th>Light</th>\n",
       "      <th>CO2</th>\n",
       "      <th>HumidityRatio</th>\n",
       "      <th>Occupancy</th>\n",
       "    </tr>\n",
       "  </thead>\n",
       "  <tbody>\n",
       "    <tr>\n",
       "      <th>0</th>\n",
       "      <td>2015-02-02 14:19:00</td>\n",
       "      <td>23.7000</td>\n",
       "      <td>26.272</td>\n",
       "      <td>585.200000</td>\n",
       "      <td>749.200000</td>\n",
       "      <td>0.004764</td>\n",
       "      <td>1</td>\n",
       "    </tr>\n",
       "    <tr>\n",
       "      <th>1</th>\n",
       "      <td>2015-02-02 14:19:59</td>\n",
       "      <td>23.7180</td>\n",
       "      <td>26.290</td>\n",
       "      <td>578.400000</td>\n",
       "      <td>760.400000</td>\n",
       "      <td>0.004773</td>\n",
       "      <td>1</td>\n",
       "    </tr>\n",
       "    <tr>\n",
       "      <th>2</th>\n",
       "      <td>2015-02-02 14:21:00</td>\n",
       "      <td>23.7300</td>\n",
       "      <td>26.230</td>\n",
       "      <td>572.666667</td>\n",
       "      <td>769.666667</td>\n",
       "      <td>0.004765</td>\n",
       "      <td>1</td>\n",
       "    </tr>\n",
       "    <tr>\n",
       "      <th>3</th>\n",
       "      <td>2015-02-02 14:22:00</td>\n",
       "      <td>23.7225</td>\n",
       "      <td>26.125</td>\n",
       "      <td>493.750000</td>\n",
       "      <td>774.750000</td>\n",
       "      <td>0.004744</td>\n",
       "      <td>1</td>\n",
       "    </tr>\n",
       "    <tr>\n",
       "      <th>4</th>\n",
       "      <td>2015-02-02 14:23:00</td>\n",
       "      <td>23.7540</td>\n",
       "      <td>26.200</td>\n",
       "      <td>488.600000</td>\n",
       "      <td>779.000000</td>\n",
       "      <td>0.004767</td>\n",
       "      <td>1</td>\n",
       "    </tr>\n",
       "  </tbody>\n",
       "</table></div>"
      ],
      "text/plain": [
       "                  date  Temperature  Humidity       Light         CO2  \\\n",
       "0  2015-02-02 14:19:00      23.7000    26.272  585.200000  749.200000   \n",
       "1  2015-02-02 14:19:59      23.7180    26.290  578.400000  760.400000   \n",
       "2  2015-02-02 14:21:00      23.7300    26.230  572.666667  769.666667   \n",
       "3  2015-02-02 14:22:00      23.7225    26.125  493.750000  774.750000   \n",
       "4  2015-02-02 14:23:00      23.7540    26.200  488.600000  779.000000   \n",
       "\n",
       "   HumidityRatio  Occupancy  \n",
       "0       0.004764          1  \n",
       "1       0.004773          1  \n",
       "2       0.004765          1  \n",
       "3       0.004744          1  \n",
       "4       0.004767          1  "
      ]
     },
     "execution_count": 7,
     "metadata": {},
     "output_type": "execute_result"
    }
   ],
   "source": [
    "df.head()"
   ]
  },
  {
   "cell_type": "code",
   "execution_count": 8,
   "id": "8a2e0aa3",
   "metadata": {},
   "outputs": [
    {
     "data": {
      "text/html": [
       "<div><div id=9a635a6d-1ef4-484a-bb08-2a85151ddd7f style=\"display:none; background-color:#9D6CFF; color:white; width:200px; height:30px; padding-left:5px; border-radius:4px; flex-direction:row; justify-content:space-around; align-items:center;\" onmouseover=\"this.style.backgroundColor='#BA9BF8'\" onmouseout=\"this.style.backgroundColor='#9D6CFF'\" onclick=\"window.commands?.execute('create-mitosheet-from-dataframe-output');\">See Full Dataframe in Mito</div> <script> if (window.commands.hasCommand('create-mitosheet-from-dataframe-output')) document.getElementById('9a635a6d-1ef4-484a-bb08-2a85151ddd7f').style.display = 'flex' </script> <table border=\"1\" class=\"dataframe\">\n",
       "  <thead>\n",
       "    <tr style=\"text-align: right;\">\n",
       "      <th></th>\n",
       "      <th>Temperature</th>\n",
       "      <th>Humidity</th>\n",
       "      <th>Light</th>\n",
       "      <th>CO2</th>\n",
       "      <th>HumidityRatio</th>\n",
       "      <th>Occupancy</th>\n",
       "    </tr>\n",
       "  </thead>\n",
       "  <tbody>\n",
       "    <tr>\n",
       "      <th>count</th>\n",
       "      <td>20560.000000</td>\n",
       "      <td>20560.000000</td>\n",
       "      <td>20560.000000</td>\n",
       "      <td>20560.000000</td>\n",
       "      <td>20560.000000</td>\n",
       "      <td>20560.000000</td>\n",
       "    </tr>\n",
       "    <tr>\n",
       "      <th>mean</th>\n",
       "      <td>20.906212</td>\n",
       "      <td>27.655925</td>\n",
       "      <td>130.756622</td>\n",
       "      <td>690.553276</td>\n",
       "      <td>0.004228</td>\n",
       "      <td>0.231031</td>\n",
       "    </tr>\n",
       "    <tr>\n",
       "      <th>std</th>\n",
       "      <td>1.055315</td>\n",
       "      <td>4.982154</td>\n",
       "      <td>210.430875</td>\n",
       "      <td>311.201281</td>\n",
       "      <td>0.000768</td>\n",
       "      <td>0.421503</td>\n",
       "    </tr>\n",
       "    <tr>\n",
       "      <th>min</th>\n",
       "      <td>19.000000</td>\n",
       "      <td>16.745000</td>\n",
       "      <td>0.000000</td>\n",
       "      <td>412.750000</td>\n",
       "      <td>0.002674</td>\n",
       "      <td>0.000000</td>\n",
       "    </tr>\n",
       "    <tr>\n",
       "      <th>25%</th>\n",
       "      <td>20.200000</td>\n",
       "      <td>24.500000</td>\n",
       "      <td>0.000000</td>\n",
       "      <td>460.000000</td>\n",
       "      <td>0.003719</td>\n",
       "      <td>0.000000</td>\n",
       "    </tr>\n",
       "    <tr>\n",
       "      <th>50%</th>\n",
       "      <td>20.700000</td>\n",
       "      <td>27.290000</td>\n",
       "      <td>0.000000</td>\n",
       "      <td>565.416667</td>\n",
       "      <td>0.004292</td>\n",
       "      <td>0.000000</td>\n",
       "    </tr>\n",
       "    <tr>\n",
       "      <th>75%</th>\n",
       "      <td>21.525000</td>\n",
       "      <td>31.290000</td>\n",
       "      <td>301.000000</td>\n",
       "      <td>804.666667</td>\n",
       "      <td>0.004832</td>\n",
       "      <td>0.000000</td>\n",
       "    </tr>\n",
       "    <tr>\n",
       "      <th>max</th>\n",
       "      <td>24.408333</td>\n",
       "      <td>39.500000</td>\n",
       "      <td>1697.250000</td>\n",
       "      <td>2076.500000</td>\n",
       "      <td>0.006476</td>\n",
       "      <td>1.000000</td>\n",
       "    </tr>\n",
       "  </tbody>\n",
       "</table></div>"
      ],
      "text/plain": [
       "        Temperature      Humidity         Light           CO2  HumidityRatio  \\\n",
       "count  20560.000000  20560.000000  20560.000000  20560.000000   20560.000000   \n",
       "mean      20.906212     27.655925    130.756622    690.553276       0.004228   \n",
       "std        1.055315      4.982154    210.430875    311.201281       0.000768   \n",
       "min       19.000000     16.745000      0.000000    412.750000       0.002674   \n",
       "25%       20.200000     24.500000      0.000000    460.000000       0.003719   \n",
       "50%       20.700000     27.290000      0.000000    565.416667       0.004292   \n",
       "75%       21.525000     31.290000    301.000000    804.666667       0.004832   \n",
       "max       24.408333     39.500000   1697.250000   2076.500000       0.006476   \n",
       "\n",
       "          Occupancy  \n",
       "count  20560.000000  \n",
       "mean       0.231031  \n",
       "std        0.421503  \n",
       "min        0.000000  \n",
       "25%        0.000000  \n",
       "50%        0.000000  \n",
       "75%        0.000000  \n",
       "max        1.000000  "
      ]
     },
     "execution_count": 8,
     "metadata": {},
     "output_type": "execute_result"
    }
   ],
   "source": [
    "df.describe()"
   ]
  },
  {
   "cell_type": "code",
   "execution_count": 9,
   "id": "7bb1a710",
   "metadata": {},
   "outputs": [
    {
     "data": {
      "text/plain": [
       "(20560, 7)"
      ]
     },
     "execution_count": 9,
     "metadata": {},
     "output_type": "execute_result"
    }
   ],
   "source": [
    "df.shape"
   ]
  },
  {
   "cell_type": "code",
   "execution_count": 10,
   "id": "deaea59e",
   "metadata": {},
   "outputs": [
    {
     "name": "stdout",
     "output_type": "stream",
     "text": [
      "<class 'pandas.core.frame.DataFrame'>\n",
      "RangeIndex: 20560 entries, 0 to 20559\n",
      "Data columns (total 7 columns):\n",
      " #   Column         Non-Null Count  Dtype  \n",
      "---  ------         --------------  -----  \n",
      " 0   date           20560 non-null  object \n",
      " 1   Temperature    20560 non-null  float64\n",
      " 2   Humidity       20560 non-null  float64\n",
      " 3   Light          20560 non-null  float64\n",
      " 4   CO2            20560 non-null  float64\n",
      " 5   HumidityRatio  20560 non-null  float64\n",
      " 6   Occupancy      20560 non-null  int64  \n",
      "dtypes: float64(5), int64(1), object(1)\n",
      "memory usage: 1.1+ MB\n"
     ]
    }
   ],
   "source": [
    "df.info()"
   ]
  },
  {
   "cell_type": "code",
   "execution_count": 11,
   "id": "6a0056ad",
   "metadata": {},
   "outputs": [
    {
     "data": {
      "text/plain": [
       "date             0\n",
       "Temperature      0\n",
       "Humidity         0\n",
       "Light            0\n",
       "CO2              0\n",
       "HumidityRatio    0\n",
       "Occupancy        0\n",
       "dtype: int64"
      ]
     },
     "execution_count": 11,
     "metadata": {},
     "output_type": "execute_result"
    }
   ],
   "source": [
    "df.isnull().sum()"
   ]
  },
  {
   "cell_type": "code",
   "execution_count": 12,
   "id": "982f4527",
   "metadata": {},
   "outputs": [
    {
     "data": {
      "text/plain": [
       "Index(['Temperature', 'Humidity', 'Light', 'CO2', 'HumidityRatio',\n",
       "       'Occupancy'],\n",
       "      dtype='object')"
      ]
     },
     "execution_count": 12,
     "metadata": {},
     "output_type": "execute_result"
    }
   ],
   "source": [
    "df.describe().columns"
   ]
  },
  {
   "cell_type": "code",
   "execution_count": 13,
   "id": "5321ead0",
   "metadata": {},
   "outputs": [],
   "source": [
    "df['Occupied']=df['Occupancy'].replace({1:'yes',0:'no'})"
   ]
  },
  {
   "cell_type": "code",
   "execution_count": 14,
   "id": "0ce5d636",
   "metadata": {},
   "outputs": [
    {
     "data": {
      "text/html": [
       "<div><div id=b6b04b70-f2ac-49ab-ad07-ec9904edea98 style=\"display:none; background-color:#9D6CFF; color:white; width:200px; height:30px; padding-left:5px; border-radius:4px; flex-direction:row; justify-content:space-around; align-items:center;\" onmouseover=\"this.style.backgroundColor='#BA9BF8'\" onmouseout=\"this.style.backgroundColor='#9D6CFF'\" onclick=\"window.commands?.execute('create-mitosheet-from-dataframe-output');\">See Full Dataframe in Mito</div> <script> if (window.commands.hasCommand('create-mitosheet-from-dataframe-output')) document.getElementById('b6b04b70-f2ac-49ab-ad07-ec9904edea98').style.display = 'flex' </script> <table border=\"1\" class=\"dataframe\">\n",
       "  <thead>\n",
       "    <tr style=\"text-align: right;\">\n",
       "      <th></th>\n",
       "      <th>date</th>\n",
       "      <th>Temperature</th>\n",
       "      <th>Humidity</th>\n",
       "      <th>Light</th>\n",
       "      <th>CO2</th>\n",
       "      <th>HumidityRatio</th>\n",
       "      <th>Occupancy</th>\n",
       "      <th>Occupied</th>\n",
       "    </tr>\n",
       "  </thead>\n",
       "  <tbody>\n",
       "    <tr>\n",
       "      <th>0</th>\n",
       "      <td>2015-02-02 14:19:00</td>\n",
       "      <td>23.700000</td>\n",
       "      <td>26.272000</td>\n",
       "      <td>585.200000</td>\n",
       "      <td>749.200000</td>\n",
       "      <td>0.004764</td>\n",
       "      <td>1</td>\n",
       "      <td>yes</td>\n",
       "    </tr>\n",
       "    <tr>\n",
       "      <th>1</th>\n",
       "      <td>2015-02-02 14:19:59</td>\n",
       "      <td>23.718000</td>\n",
       "      <td>26.290000</td>\n",
       "      <td>578.400000</td>\n",
       "      <td>760.400000</td>\n",
       "      <td>0.004773</td>\n",
       "      <td>1</td>\n",
       "      <td>yes</td>\n",
       "    </tr>\n",
       "    <tr>\n",
       "      <th>2</th>\n",
       "      <td>2015-02-02 14:21:00</td>\n",
       "      <td>23.730000</td>\n",
       "      <td>26.230000</td>\n",
       "      <td>572.666667</td>\n",
       "      <td>769.666667</td>\n",
       "      <td>0.004765</td>\n",
       "      <td>1</td>\n",
       "      <td>yes</td>\n",
       "    </tr>\n",
       "    <tr>\n",
       "      <th>3</th>\n",
       "      <td>2015-02-02 14:22:00</td>\n",
       "      <td>23.722500</td>\n",
       "      <td>26.125000</td>\n",
       "      <td>493.750000</td>\n",
       "      <td>774.750000</td>\n",
       "      <td>0.004744</td>\n",
       "      <td>1</td>\n",
       "      <td>yes</td>\n",
       "    </tr>\n",
       "    <tr>\n",
       "      <th>4</th>\n",
       "      <td>2015-02-02 14:23:00</td>\n",
       "      <td>23.754000</td>\n",
       "      <td>26.200000</td>\n",
       "      <td>488.600000</td>\n",
       "      <td>779.000000</td>\n",
       "      <td>0.004767</td>\n",
       "      <td>1</td>\n",
       "      <td>yes</td>\n",
       "    </tr>\n",
       "    <tr>\n",
       "      <th>5</th>\n",
       "      <td>2015-02-02 14:23:59</td>\n",
       "      <td>23.760000</td>\n",
       "      <td>26.260000</td>\n",
       "      <td>568.666667</td>\n",
       "      <td>790.000000</td>\n",
       "      <td>0.004779</td>\n",
       "      <td>1</td>\n",
       "      <td>yes</td>\n",
       "    </tr>\n",
       "    <tr>\n",
       "      <th>6</th>\n",
       "      <td>2015-02-02 14:25:00</td>\n",
       "      <td>23.730000</td>\n",
       "      <td>26.290000</td>\n",
       "      <td>536.333333</td>\n",
       "      <td>798.000000</td>\n",
       "      <td>0.004776</td>\n",
       "      <td>1</td>\n",
       "      <td>yes</td>\n",
       "    </tr>\n",
       "    <tr>\n",
       "      <th>7</th>\n",
       "      <td>2015-02-02 14:25:59</td>\n",
       "      <td>23.754000</td>\n",
       "      <td>26.290000</td>\n",
       "      <td>509.000000</td>\n",
       "      <td>797.000000</td>\n",
       "      <td>0.004783</td>\n",
       "      <td>1</td>\n",
       "      <td>yes</td>\n",
       "    </tr>\n",
       "    <tr>\n",
       "      <th>8</th>\n",
       "      <td>2015-02-02 14:26:59</td>\n",
       "      <td>23.754000</td>\n",
       "      <td>26.350000</td>\n",
       "      <td>476.000000</td>\n",
       "      <td>803.200000</td>\n",
       "      <td>0.004794</td>\n",
       "      <td>1</td>\n",
       "      <td>yes</td>\n",
       "    </tr>\n",
       "    <tr>\n",
       "      <th>9</th>\n",
       "      <td>2015-02-02 14:28:00</td>\n",
       "      <td>23.736000</td>\n",
       "      <td>26.390000</td>\n",
       "      <td>510.000000</td>\n",
       "      <td>809.000000</td>\n",
       "      <td>0.004796</td>\n",
       "      <td>1</td>\n",
       "      <td>yes</td>\n",
       "    </tr>\n",
       "    <tr>\n",
       "      <th>10</th>\n",
       "      <td>2015-02-02 14:29:00</td>\n",
       "      <td>23.745000</td>\n",
       "      <td>26.445000</td>\n",
       "      <td>481.500000</td>\n",
       "      <td>815.250000</td>\n",
       "      <td>0.004809</td>\n",
       "      <td>1</td>\n",
       "      <td>yes</td>\n",
       "    </tr>\n",
       "    <tr>\n",
       "      <th>11</th>\n",
       "      <td>2015-02-02 14:30:00</td>\n",
       "      <td>23.700000</td>\n",
       "      <td>26.560000</td>\n",
       "      <td>481.800000</td>\n",
       "      <td>824.000000</td>\n",
       "      <td>0.004817</td>\n",
       "      <td>1</td>\n",
       "      <td>yes</td>\n",
       "    </tr>\n",
       "    <tr>\n",
       "      <th>12</th>\n",
       "      <td>2015-02-02 14:31:00</td>\n",
       "      <td>23.700000</td>\n",
       "      <td>26.600000</td>\n",
       "      <td>475.250000</td>\n",
       "      <td>832.000000</td>\n",
       "      <td>0.004824</td>\n",
       "      <td>1</td>\n",
       "      <td>yes</td>\n",
       "    </tr>\n",
       "    <tr>\n",
       "      <th>13</th>\n",
       "      <td>2015-02-02 14:31:59</td>\n",
       "      <td>23.700000</td>\n",
       "      <td>26.700000</td>\n",
       "      <td>469.000000</td>\n",
       "      <td>845.333333</td>\n",
       "      <td>0.004842</td>\n",
       "      <td>1</td>\n",
       "      <td>yes</td>\n",
       "    </tr>\n",
       "    <tr>\n",
       "      <th>14</th>\n",
       "      <td>2015-02-02 14:32:59</td>\n",
       "      <td>23.700000</td>\n",
       "      <td>26.774000</td>\n",
       "      <td>464.000000</td>\n",
       "      <td>852.400000</td>\n",
       "      <td>0.004856</td>\n",
       "      <td>1</td>\n",
       "      <td>yes</td>\n",
       "    </tr>\n",
       "    <tr>\n",
       "      <th>15</th>\n",
       "      <td>2015-02-02 14:34:00</td>\n",
       "      <td>23.700000</td>\n",
       "      <td>26.890000</td>\n",
       "      <td>464.000000</td>\n",
       "      <td>861.000000</td>\n",
       "      <td>0.004877</td>\n",
       "      <td>1</td>\n",
       "      <td>yes</td>\n",
       "    </tr>\n",
       "    <tr>\n",
       "      <th>16</th>\n",
       "      <td>2015-02-02 14:35:00</td>\n",
       "      <td>23.700000</td>\n",
       "      <td>26.972500</td>\n",
       "      <td>455.000000</td>\n",
       "      <td>880.000000</td>\n",
       "      <td>0.004892</td>\n",
       "      <td>1</td>\n",
       "      <td>yes</td>\n",
       "    </tr>\n",
       "    <tr>\n",
       "      <th>17</th>\n",
       "      <td>2015-02-02 14:36:00</td>\n",
       "      <td>23.600000</td>\n",
       "      <td>26.890000</td>\n",
       "      <td>454.000000</td>\n",
       "      <td>891.000000</td>\n",
       "      <td>0.004848</td>\n",
       "      <td>1</td>\n",
       "      <td>yes</td>\n",
       "    </tr>\n",
       "    <tr>\n",
       "      <th>18</th>\n",
       "      <td>2015-02-02 14:37:00</td>\n",
       "      <td>23.640000</td>\n",
       "      <td>26.976000</td>\n",
       "      <td>458.000000</td>\n",
       "      <td>897.600000</td>\n",
       "      <td>0.004875</td>\n",
       "      <td>1</td>\n",
       "      <td>yes</td>\n",
       "    </tr>\n",
       "    <tr>\n",
       "      <th>19</th>\n",
       "      <td>2015-02-02 14:38:00</td>\n",
       "      <td>23.650000</td>\n",
       "      <td>27.050000</td>\n",
       "      <td>464.000000</td>\n",
       "      <td>900.500000</td>\n",
       "      <td>0.004891</td>\n",
       "      <td>1</td>\n",
       "      <td>yes</td>\n",
       "    </tr>\n",
       "    <tr>\n",
       "      <th>20</th>\n",
       "      <td>2015-02-02 14:38:59</td>\n",
       "      <td>23.640000</td>\n",
       "      <td>27.100000</td>\n",
       "      <td>473.000000</td>\n",
       "      <td>908.800000</td>\n",
       "      <td>0.004898</td>\n",
       "      <td>1</td>\n",
       "      <td>yes</td>\n",
       "    </tr>\n",
       "    <tr>\n",
       "      <th>21</th>\n",
       "      <td>2015-02-02 14:39:59</td>\n",
       "      <td>23.600000</td>\n",
       "      <td>27.160000</td>\n",
       "      <td>464.000000</td>\n",
       "      <td>918.000000</td>\n",
       "      <td>0.004897</td>\n",
       "      <td>1</td>\n",
       "      <td>yes</td>\n",
       "    </tr>\n",
       "    <tr>\n",
       "      <th>22</th>\n",
       "      <td>2015-02-02 14:41:00</td>\n",
       "      <td>23.600000</td>\n",
       "      <td>27.236000</td>\n",
       "      <td>498.400000</td>\n",
       "      <td>925.200000</td>\n",
       "      <td>0.004910</td>\n",
       "      <td>1</td>\n",
       "      <td>yes</td>\n",
       "    </tr>\n",
       "    <tr>\n",
       "      <th>23</th>\n",
       "      <td>2015-02-02 14:42:00</td>\n",
       "      <td>23.600000</td>\n",
       "      <td>27.290000</td>\n",
       "      <td>530.200000</td>\n",
       "      <td>929.400000</td>\n",
       "      <td>0.004920</td>\n",
       "      <td>1</td>\n",
       "      <td>yes</td>\n",
       "    </tr>\n",
       "    <tr>\n",
       "      <th>24</th>\n",
       "      <td>2015-02-02 14:43:00</td>\n",
       "      <td>23.600000</td>\n",
       "      <td>27.330000</td>\n",
       "      <td>533.600000</td>\n",
       "      <td>936.400000</td>\n",
       "      <td>0.004928</td>\n",
       "      <td>1</td>\n",
       "      <td>yes</td>\n",
       "    </tr>\n",
       "    <tr>\n",
       "      <th>25</th>\n",
       "      <td>2015-02-02 14:44:00</td>\n",
       "      <td>23.600000</td>\n",
       "      <td>27.340000</td>\n",
       "      <td>524.250000</td>\n",
       "      <td>950.000000</td>\n",
       "      <td>0.004929</td>\n",
       "      <td>1</td>\n",
       "      <td>yes</td>\n",
       "    </tr>\n",
       "    <tr>\n",
       "      <th>26</th>\n",
       "      <td>2015-02-02 14:44:59</td>\n",
       "      <td>23.625000</td>\n",
       "      <td>27.392500</td>\n",
       "      <td>498.666667</td>\n",
       "      <td>961.000000</td>\n",
       "      <td>0.004946</td>\n",
       "      <td>1</td>\n",
       "      <td>yes</td>\n",
       "    </tr>\n",
       "    <tr>\n",
       "      <th>27</th>\n",
       "      <td>2015-02-02 14:45:59</td>\n",
       "      <td>23.600000</td>\n",
       "      <td>27.390000</td>\n",
       "      <td>516.333333</td>\n",
       "      <td>963.000000</td>\n",
       "      <td>0.004938</td>\n",
       "      <td>1</td>\n",
       "      <td>yes</td>\n",
       "    </tr>\n",
       "    <tr>\n",
       "      <th>28</th>\n",
       "      <td>2015-02-02 14:47:00</td>\n",
       "      <td>23.600000</td>\n",
       "      <td>27.412000</td>\n",
       "      <td>501.200000</td>\n",
       "      <td>958.600000</td>\n",
       "      <td>0.004942</td>\n",
       "      <td>1</td>\n",
       "      <td>yes</td>\n",
       "    </tr>\n",
       "    <tr>\n",
       "      <th>29</th>\n",
       "      <td>2015-02-02 14:48:00</td>\n",
       "      <td>23.600000</td>\n",
       "      <td>27.500000</td>\n",
       "      <td>522.000000</td>\n",
       "      <td>965.333333</td>\n",
       "      <td>0.004958</td>\n",
       "      <td>1</td>\n",
       "      <td>yes</td>\n",
       "    </tr>\n",
       "    <tr>\n",
       "      <th>...</th>\n",
       "      <td>...</td>\n",
       "      <td>...</td>\n",
       "      <td>...</td>\n",
       "      <td>...</td>\n",
       "      <td>...</td>\n",
       "      <td>...</td>\n",
       "      <td>...</td>\n",
       "      <td>...</td>\n",
       "    </tr>\n",
       "    <tr>\n",
       "      <th>20530</th>\n",
       "      <td>2015-02-18 08:50:00</td>\n",
       "      <td>20.790000</td>\n",
       "      <td>26.890000</td>\n",
       "      <td>7.000000</td>\n",
       "      <td>1472.400000</td>\n",
       "      <td>0.004080</td>\n",
       "      <td>0</td>\n",
       "      <td>no</td>\n",
       "    </tr>\n",
       "    <tr>\n",
       "      <th>20531</th>\n",
       "      <td>2015-02-18 08:51:00</td>\n",
       "      <td>20.823333</td>\n",
       "      <td>26.926667</td>\n",
       "      <td>9.333333</td>\n",
       "      <td>1482.333333</td>\n",
       "      <td>0.004094</td>\n",
       "      <td>0</td>\n",
       "      <td>no</td>\n",
       "    </tr>\n",
       "    <tr>\n",
       "      <th>20532</th>\n",
       "      <td>2015-02-18 08:51:59</td>\n",
       "      <td>20.890000</td>\n",
       "      <td>27.000000</td>\n",
       "      <td>4.666667</td>\n",
       "      <td>1492.000000</td>\n",
       "      <td>0.004122</td>\n",
       "      <td>0</td>\n",
       "      <td>no</td>\n",
       "    </tr>\n",
       "    <tr>\n",
       "      <th>20533</th>\n",
       "      <td>2015-02-18 08:53:00</td>\n",
       "      <td>20.865000</td>\n",
       "      <td>26.945000</td>\n",
       "      <td>7.000000</td>\n",
       "      <td>1469.000000</td>\n",
       "      <td>0.004107</td>\n",
       "      <td>0</td>\n",
       "      <td>no</td>\n",
       "    </tr>\n",
       "    <tr>\n",
       "      <th>20534</th>\n",
       "      <td>2015-02-18 08:54:00</td>\n",
       "      <td>20.840000</td>\n",
       "      <td>26.895000</td>\n",
       "      <td>7.000000</td>\n",
       "      <td>1463.500000</td>\n",
       "      <td>0.004093</td>\n",
       "      <td>0</td>\n",
       "      <td>no</td>\n",
       "    </tr>\n",
       "    <tr>\n",
       "      <th>20535</th>\n",
       "      <td>2015-02-18 08:55:00</td>\n",
       "      <td>20.815000</td>\n",
       "      <td>26.815000</td>\n",
       "      <td>7.000000</td>\n",
       "      <td>1471.750000</td>\n",
       "      <td>0.004075</td>\n",
       "      <td>0</td>\n",
       "      <td>no</td>\n",
       "    </tr>\n",
       "    <tr>\n",
       "      <th>20536</th>\n",
       "      <td>2015-02-18 08:55:59</td>\n",
       "      <td>20.865000</td>\n",
       "      <td>26.865000</td>\n",
       "      <td>7.000000</td>\n",
       "      <td>1500.250000</td>\n",
       "      <td>0.004095</td>\n",
       "      <td>0</td>\n",
       "      <td>no</td>\n",
       "    </tr>\n",
       "    <tr>\n",
       "      <th>20537</th>\n",
       "      <td>2015-02-18 08:57:00</td>\n",
       "      <td>20.823333</td>\n",
       "      <td>26.893333</td>\n",
       "      <td>9.333333</td>\n",
       "      <td>1514.000000</td>\n",
       "      <td>0.004089</td>\n",
       "      <td>0</td>\n",
       "      <td>no</td>\n",
       "    </tr>\n",
       "    <tr>\n",
       "      <th>20538</th>\n",
       "      <td>2015-02-18 08:57:59</td>\n",
       "      <td>20.815000</td>\n",
       "      <td>26.892500</td>\n",
       "      <td>13.500000</td>\n",
       "      <td>1499.250000</td>\n",
       "      <td>0.004087</td>\n",
       "      <td>0</td>\n",
       "      <td>no</td>\n",
       "    </tr>\n",
       "    <tr>\n",
       "      <th>20539</th>\n",
       "      <td>2015-02-18 08:58:59</td>\n",
       "      <td>20.856667</td>\n",
       "      <td>26.890000</td>\n",
       "      <td>20.666667</td>\n",
       "      <td>1485.666667</td>\n",
       "      <td>0.004097</td>\n",
       "      <td>0</td>\n",
       "      <td>no</td>\n",
       "    </tr>\n",
       "    <tr>\n",
       "      <th>20540</th>\n",
       "      <td>2015-02-18 09:00:00</td>\n",
       "      <td>20.865000</td>\n",
       "      <td>26.865000</td>\n",
       "      <td>17.000000</td>\n",
       "      <td>1476.250000</td>\n",
       "      <td>0.004095</td>\n",
       "      <td>0</td>\n",
       "      <td>no</td>\n",
       "    </tr>\n",
       "    <tr>\n",
       "      <th>20541</th>\n",
       "      <td>2015-02-18 09:01:00</td>\n",
       "      <td>20.865000</td>\n",
       "      <td>26.865000</td>\n",
       "      <td>12.000000</td>\n",
       "      <td>1462.500000</td>\n",
       "      <td>0.004095</td>\n",
       "      <td>0</td>\n",
       "      <td>no</td>\n",
       "    </tr>\n",
       "    <tr>\n",
       "      <th>20542</th>\n",
       "      <td>2015-02-18 09:02:00</td>\n",
       "      <td>20.840000</td>\n",
       "      <td>26.840000</td>\n",
       "      <td>7.000000</td>\n",
       "      <td>1452.500000</td>\n",
       "      <td>0.004085</td>\n",
       "      <td>0</td>\n",
       "      <td>no</td>\n",
       "    </tr>\n",
       "    <tr>\n",
       "      <th>20543</th>\n",
       "      <td>2015-02-18 09:03:00</td>\n",
       "      <td>20.815000</td>\n",
       "      <td>26.815000</td>\n",
       "      <td>7.000000</td>\n",
       "      <td>1448.000000</td>\n",
       "      <td>0.004075</td>\n",
       "      <td>0</td>\n",
       "      <td>no</td>\n",
       "    </tr>\n",
       "    <tr>\n",
       "      <th>20544</th>\n",
       "      <td>2015-02-18 09:04:00</td>\n",
       "      <td>20.823333</td>\n",
       "      <td>26.823333</td>\n",
       "      <td>13.333333</td>\n",
       "      <td>1448.666667</td>\n",
       "      <td>0.004078</td>\n",
       "      <td>0</td>\n",
       "      <td>no</td>\n",
       "    </tr>\n",
       "    <tr>\n",
       "      <th>20545</th>\n",
       "      <td>2015-02-18 09:04:59</td>\n",
       "      <td>20.815000</td>\n",
       "      <td>26.815000</td>\n",
       "      <td>11.500000</td>\n",
       "      <td>1443.250000</td>\n",
       "      <td>0.004075</td>\n",
       "      <td>0</td>\n",
       "      <td>no</td>\n",
       "    </tr>\n",
       "    <tr>\n",
       "      <th>20546</th>\n",
       "      <td>2015-02-18 09:06:00</td>\n",
       "      <td>20.790000</td>\n",
       "      <td>26.790000</td>\n",
       "      <td>10.000000</td>\n",
       "      <td>1450.500000</td>\n",
       "      <td>0.004065</td>\n",
       "      <td>0</td>\n",
       "      <td>no</td>\n",
       "    </tr>\n",
       "    <tr>\n",
       "      <th>20547</th>\n",
       "      <td>2015-02-18 09:07:00</td>\n",
       "      <td>20.840000</td>\n",
       "      <td>26.840000</td>\n",
       "      <td>12.000000</td>\n",
       "      <td>1446.500000</td>\n",
       "      <td>0.004085</td>\n",
       "      <td>0</td>\n",
       "      <td>no</td>\n",
       "    </tr>\n",
       "    <tr>\n",
       "      <th>20548</th>\n",
       "      <td>2015-02-18 09:08:00</td>\n",
       "      <td>20.790000</td>\n",
       "      <td>26.790000</td>\n",
       "      <td>14.000000</td>\n",
       "      <td>1444.666667</td>\n",
       "      <td>0.004065</td>\n",
       "      <td>0</td>\n",
       "      <td>no</td>\n",
       "    </tr>\n",
       "    <tr>\n",
       "      <th>20549</th>\n",
       "      <td>2015-02-18 09:08:59</td>\n",
       "      <td>20.790000</td>\n",
       "      <td>26.767500</td>\n",
       "      <td>10.000000</td>\n",
       "      <td>1455.000000</td>\n",
       "      <td>0.004061</td>\n",
       "      <td>0</td>\n",
       "      <td>no</td>\n",
       "    </tr>\n",
       "    <tr>\n",
       "      <th>20550</th>\n",
       "      <td>2015-02-18 09:10:00</td>\n",
       "      <td>20.790000</td>\n",
       "      <td>26.745000</td>\n",
       "      <td>50.750000</td>\n",
       "      <td>1463.750000</td>\n",
       "      <td>0.004058</td>\n",
       "      <td>0</td>\n",
       "      <td>no</td>\n",
       "    </tr>\n",
       "    <tr>\n",
       "      <th>20551</th>\n",
       "      <td>2015-02-18 09:10:59</td>\n",
       "      <td>20.790000</td>\n",
       "      <td>27.122500</td>\n",
       "      <td>296.000000</td>\n",
       "      <td>1467.000000</td>\n",
       "      <td>0.004116</td>\n",
       "      <td>1</td>\n",
       "      <td>yes</td>\n",
       "    </tr>\n",
       "    <tr>\n",
       "      <th>20552</th>\n",
       "      <td>2015-02-18 09:11:59</td>\n",
       "      <td>20.790000</td>\n",
       "      <td>27.030000</td>\n",
       "      <td>419.000000</td>\n",
       "      <td>1488.000000</td>\n",
       "      <td>0.004101</td>\n",
       "      <td>1</td>\n",
       "      <td>yes</td>\n",
       "    </tr>\n",
       "    <tr>\n",
       "      <th>20553</th>\n",
       "      <td>2015-02-18 09:13:00</td>\n",
       "      <td>20.790000</td>\n",
       "      <td>27.296667</td>\n",
       "      <td>429.000000</td>\n",
       "      <td>1486.000000</td>\n",
       "      <td>0.004142</td>\n",
       "      <td>1</td>\n",
       "      <td>yes</td>\n",
       "    </tr>\n",
       "    <tr>\n",
       "      <th>20554</th>\n",
       "      <td>2015-02-18 09:14:00</td>\n",
       "      <td>20.815000</td>\n",
       "      <td>27.417500</td>\n",
       "      <td>430.750000</td>\n",
       "      <td>1511.750000</td>\n",
       "      <td>0.004167</td>\n",
       "      <td>1</td>\n",
       "      <td>yes</td>\n",
       "    </tr>\n",
       "    <tr>\n",
       "      <th>20555</th>\n",
       "      <td>2015-02-18 09:15:00</td>\n",
       "      <td>20.815000</td>\n",
       "      <td>27.717500</td>\n",
       "      <td>429.750000</td>\n",
       "      <td>1505.250000</td>\n",
       "      <td>0.004213</td>\n",
       "      <td>1</td>\n",
       "      <td>yes</td>\n",
       "    </tr>\n",
       "    <tr>\n",
       "      <th>20556</th>\n",
       "      <td>2015-02-18 09:16:00</td>\n",
       "      <td>20.865000</td>\n",
       "      <td>27.745000</td>\n",
       "      <td>423.500000</td>\n",
       "      <td>1514.500000</td>\n",
       "      <td>0.004230</td>\n",
       "      <td>1</td>\n",
       "      <td>yes</td>\n",
       "    </tr>\n",
       "    <tr>\n",
       "      <th>20557</th>\n",
       "      <td>2015-02-18 09:16:59</td>\n",
       "      <td>20.890000</td>\n",
       "      <td>27.745000</td>\n",
       "      <td>423.500000</td>\n",
       "      <td>1521.500000</td>\n",
       "      <td>0.004237</td>\n",
       "      <td>1</td>\n",
       "      <td>yes</td>\n",
       "    </tr>\n",
       "    <tr>\n",
       "      <th>20558</th>\n",
       "      <td>2015-02-18 09:17:59</td>\n",
       "      <td>20.890000</td>\n",
       "      <td>28.022500</td>\n",
       "      <td>418.750000</td>\n",
       "      <td>1632.000000</td>\n",
       "      <td>0.004279</td>\n",
       "      <td>1</td>\n",
       "      <td>yes</td>\n",
       "    </tr>\n",
       "    <tr>\n",
       "      <th>20559</th>\n",
       "      <td>2015-02-18 09:19:00</td>\n",
       "      <td>21.000000</td>\n",
       "      <td>28.100000</td>\n",
       "      <td>409.000000</td>\n",
       "      <td>1864.000000</td>\n",
       "      <td>0.004321</td>\n",
       "      <td>1</td>\n",
       "      <td>yes</td>\n",
       "    </tr>\n",
       "  </tbody>\n",
       "</table></div>"
      ],
      "text/plain": [
       "                      date  Temperature  Humidity       Light          CO2  \\\n",
       "0      2015-02-02 14:19:00      23.7000   26.2720  585.200000   749.200000   \n",
       "1      2015-02-02 14:19:59      23.7180   26.2900  578.400000   760.400000   \n",
       "2      2015-02-02 14:21:00      23.7300   26.2300  572.666667   769.666667   \n",
       "3      2015-02-02 14:22:00      23.7225   26.1250  493.750000   774.750000   \n",
       "4      2015-02-02 14:23:00      23.7540   26.2000  488.600000   779.000000   \n",
       "...                    ...          ...       ...         ...          ...   \n",
       "20555  2015-02-18 09:15:00      20.8150   27.7175  429.750000  1505.250000   \n",
       "20556  2015-02-18 09:16:00      20.8650   27.7450  423.500000  1514.500000   \n",
       "20557  2015-02-18 09:16:59      20.8900   27.7450  423.500000  1521.500000   \n",
       "20558  2015-02-18 09:17:59      20.8900   28.0225  418.750000  1632.000000   \n",
       "20559  2015-02-18 09:19:00      21.0000   28.1000  409.000000  1864.000000   \n",
       "\n",
       "       HumidityRatio  Occupancy Occupied  \n",
       "0           0.004764          1      yes  \n",
       "1           0.004773          1      yes  \n",
       "2           0.004765          1      yes  \n",
       "3           0.004744          1      yes  \n",
       "4           0.004767          1      yes  \n",
       "...              ...        ...      ...  \n",
       "20555       0.004213          1      yes  \n",
       "20556       0.004230          1      yes  \n",
       "20557       0.004237          1      yes  \n",
       "20558       0.004279          1      yes  \n",
       "20559       0.004321          1      yes  \n",
       "\n",
       "[20560 rows x 8 columns]"
      ]
     },
     "execution_count": 14,
     "metadata": {},
     "output_type": "execute_result"
    }
   ],
   "source": [
    "df"
   ]
  },
  {
   "cell_type": "code",
   "execution_count": 15,
   "id": "e0b9546a",
   "metadata": {},
   "outputs": [
    {
     "data": {
      "text/plain": [
       "no     15810\n",
       "yes     4750\n",
       "Name: Occupied, dtype: int64"
      ]
     },
     "execution_count": 15,
     "metadata": {},
     "output_type": "execute_result"
    }
   ],
   "source": [
    "df['Occupied'].value_counts()"
   ]
  },
  {
   "cell_type": "code",
   "execution_count": 16,
   "id": "600ce4b6",
   "metadata": {},
   "outputs": [
    {
     "data": {
      "text/plain": [
       "0    15810\n",
       "1     4750\n",
       "Name: Occupancy, dtype: int64"
      ]
     },
     "execution_count": 16,
     "metadata": {},
     "output_type": "execute_result"
    }
   ],
   "source": [
    "df['Occupancy'].value_counts()"
   ]
  },
  {
   "cell_type": "code",
   "execution_count": 17,
   "id": "bcc32a08",
   "metadata": {},
   "outputs": [
    {
     "data": {
      "text/plain": [
       "<AxesSubplot:>"
      ]
     },
     "execution_count": 17,
     "metadata": {},
     "output_type": "execute_result"
    },
    {
     "data": {
      "image/png": "[encoded data removed]",
      "text/plain": [
       "<Figure size 432x288 with 1 Axes>"
      ]
     },
     "metadata": {
      "needs_background": "light"
     },
     "output_type": "display_data"
    }
   ],
   "source": [
    "df['Occupied'].value_counts().sort_index(ascending=False).plot(kind='bar')"
   ]
  },
  {
   "cell_type": "code",
   "execution_count": 18,
   "id": "a880d29f",
   "metadata": {},
   "outputs": [
    {
     "data": {
      "text/html": [
       "<div><div id=5ca126eb-79a3-46fb-9c22-939dc66aed86 style=\"display:none; background-color:#9D6CFF; color:white; width:200px; height:30px; padding-left:5px; border-radius:4px; flex-direction:row; justify-content:space-around; align-items:center;\" onmouseover=\"this.style.backgroundColor='#BA9BF8'\" onmouseout=\"this.style.backgroundColor='#9D6CFF'\" onclick=\"window.commands?.execute('create-mitosheet-from-dataframe-output');\">See Full Dataframe in Mito</div> <script> if (window.commands.hasCommand('create-mitosheet-from-dataframe-output')) document.getElementById('5ca126eb-79a3-46fb-9c22-939dc66aed86').style.display = 'flex' </script> <table border=\"1\" class=\"dataframe\">\n",
       "  <thead>\n",
       "    <tr style=\"text-align: right;\">\n",
       "      <th></th>\n",
       "      <th>Temperature</th>\n",
       "      <th>Humidity</th>\n",
       "      <th>Light</th>\n",
       "      <th>CO2</th>\n",
       "      <th>HumidityRatio</th>\n",
       "    </tr>\n",
       "    <tr>\n",
       "      <th>Occupied</th>\n",
       "      <th></th>\n",
       "      <th></th>\n",
       "      <th></th>\n",
       "      <th></th>\n",
       "      <th></th>\n",
       "    </tr>\n",
       "  </thead>\n",
       "  <tbody>\n",
       "    <tr>\n",
       "      <th>no</th>\n",
       "      <td>20.584830</td>\n",
       "      <td>27.529654</td>\n",
       "      <td>25.237893</td>\n",
       "      <td>604.996614</td>\n",
       "      <td>0.004120</td>\n",
       "    </tr>\n",
       "    <tr>\n",
       "      <th>yes</th>\n",
       "      <td>21.975909</td>\n",
       "      <td>28.076209</td>\n",
       "      <td>481.967380</td>\n",
       "      <td>975.321870</td>\n",
       "      <td>0.004589</td>\n",
       "    </tr>\n",
       "  </tbody>\n",
       "</table></div>"
      ],
      "text/plain": [
       "          Temperature   Humidity       Light         CO2  HumidityRatio\n",
       "Occupied                                                               \n",
       "no          20.584830  27.529654   25.237893  604.996614       0.004120\n",
       "yes         21.975909  28.076209  481.967380  975.321870       0.004589"
      ]
     },
     "execution_count": 18,
     "metadata": {},
     "output_type": "execute_result"
    }
   ],
   "source": [
    "df.groupby(by='Occupied')[['Temperature','Humidity','Light','CO2','HumidityRatio']].mean()"
   ]
  },
  {
   "cell_type": "code",
   "execution_count": 19,
   "id": "46f23286",
   "metadata": {},
   "outputs": [
    {
     "data": {
      "text/html": [
       "<div><div id=8f4cfa47-c9f7-4aa9-843a-d82f01df0b04 style=\"display:none; background-color:#9D6CFF; color:white; width:200px; height:30px; padding-left:5px; border-radius:4px; flex-direction:row; justify-content:space-around; align-items:center;\" onmouseover=\"this.style.backgroundColor='#BA9BF8'\" onmouseout=\"this.style.backgroundColor='#9D6CFF'\" onclick=\"window.commands?.execute('create-mitosheet-from-dataframe-output');\">See Full Dataframe in Mito</div> <script> if (window.commands.hasCommand('create-mitosheet-from-dataframe-output')) document.getElementById('8f4cfa47-c9f7-4aa9-843a-d82f01df0b04').style.display = 'flex' </script> <table border=\"1\" class=\"dataframe\">\n",
       "  <thead>\n",
       "    <tr style=\"text-align: right;\">\n",
       "      <th></th>\n",
       "      <th>date</th>\n",
       "      <th>Temperature</th>\n",
       "      <th>Humidity</th>\n",
       "      <th>Light</th>\n",
       "      <th>CO2</th>\n",
       "      <th>HumidityRatio</th>\n",
       "      <th>Occupancy</th>\n",
       "      <th>Occupied</th>\n",
       "    </tr>\n",
       "  </thead>\n",
       "  <tbody>\n",
       "    <tr>\n",
       "      <th>0</th>\n",
       "      <td>2015-02-02 14:19:00</td>\n",
       "      <td>23.7000</td>\n",
       "      <td>26.272</td>\n",
       "      <td>585.200000</td>\n",
       "      <td>749.200000</td>\n",
       "      <td>0.004764</td>\n",
       "      <td>1</td>\n",
       "      <td>yes</td>\n",
       "    </tr>\n",
       "    <tr>\n",
       "      <th>1</th>\n",
       "      <td>2015-02-02 14:19:59</td>\n",
       "      <td>23.7180</td>\n",
       "      <td>26.290</td>\n",
       "      <td>578.400000</td>\n",
       "      <td>760.400000</td>\n",
       "      <td>0.004773</td>\n",
       "      <td>1</td>\n",
       "      <td>yes</td>\n",
       "    </tr>\n",
       "    <tr>\n",
       "      <th>2</th>\n",
       "      <td>2015-02-02 14:21:00</td>\n",
       "      <td>23.7300</td>\n",
       "      <td>26.230</td>\n",
       "      <td>572.666667</td>\n",
       "      <td>769.666667</td>\n",
       "      <td>0.004765</td>\n",
       "      <td>1</td>\n",
       "      <td>yes</td>\n",
       "    </tr>\n",
       "    <tr>\n",
       "      <th>3</th>\n",
       "      <td>2015-02-02 14:22:00</td>\n",
       "      <td>23.7225</td>\n",
       "      <td>26.125</td>\n",
       "      <td>493.750000</td>\n",
       "      <td>774.750000</td>\n",
       "      <td>0.004744</td>\n",
       "      <td>1</td>\n",
       "      <td>yes</td>\n",
       "    </tr>\n",
       "    <tr>\n",
       "      <th>4</th>\n",
       "      <td>2015-02-02 14:23:00</td>\n",
       "      <td>23.7540</td>\n",
       "      <td>26.200</td>\n",
       "      <td>488.600000</td>\n",
       "      <td>779.000000</td>\n",
       "      <td>0.004767</td>\n",
       "      <td>1</td>\n",
       "      <td>yes</td>\n",
       "    </tr>\n",
       "  </tbody>\n",
       "</table></div>"
      ],
      "text/plain": [
       "                  date  Temperature  Humidity       Light         CO2  \\\n",
       "0  2015-02-02 14:19:00      23.7000    26.272  585.200000  749.200000   \n",
       "1  2015-02-02 14:19:59      23.7180    26.290  578.400000  760.400000   \n",
       "2  2015-02-02 14:21:00      23.7300    26.230  572.666667  769.666667   \n",
       "3  2015-02-02 14:22:00      23.7225    26.125  493.750000  774.750000   \n",
       "4  2015-02-02 14:23:00      23.7540    26.200  488.600000  779.000000   \n",
       "\n",
       "   HumidityRatio  Occupancy Occupied  \n",
       "0       0.004764          1      yes  \n",
       "1       0.004773          1      yes  \n",
       "2       0.004765          1      yes  \n",
       "3       0.004744          1      yes  \n",
       "4       0.004767          1      yes  "
      ]
     },
     "execution_count": 19,
     "metadata": {},
     "output_type": "execute_result"
    }
   ],
   "source": [
    "df.head()"
   ]
  },
  {
   "cell_type": "code",
   "execution_count": 20,
   "id": "6c1a4f8b",
   "metadata": {},
   "outputs": [
    {
     "data": {
      "text/html": [
       "<div><div id=efee7e04-57bb-429f-a67c-a8fc0049d437 style=\"display:none; background-color:#9D6CFF; color:white; width:200px; height:30px; padding-left:5px; border-radius:4px; flex-direction:row; justify-content:space-around; align-items:center;\" onmouseover=\"this.style.backgroundColor='#BA9BF8'\" onmouseout=\"this.style.backgroundColor='#9D6CFF'\" onclick=\"window.commands?.execute('create-mitosheet-from-dataframe-output');\">See Full Dataframe in Mito</div> <script> if (window.commands.hasCommand('create-mitosheet-from-dataframe-output')) document.getElementById('efee7e04-57bb-429f-a67c-a8fc0049d437').style.display = 'flex' </script> <table border=\"1\" class=\"dataframe\">\n",
       "  <thead>\n",
       "    <tr style=\"text-align: right;\">\n",
       "      <th></th>\n",
       "      <th>Temperature</th>\n",
       "      <th>Humidity</th>\n",
       "      <th>Light</th>\n",
       "      <th>CO2</th>\n",
       "      <th>HumidityRatio</th>\n",
       "      <th>Occupancy</th>\n",
       "    </tr>\n",
       "  </thead>\n",
       "  <tbody>\n",
       "    <tr>\n",
       "      <th>Temperature</th>\n",
       "      <td>1.000000</td>\n",
       "      <td>-0.156964</td>\n",
       "      <td>0.688571</td>\n",
       "      <td>0.449989</td>\n",
       "      <td>0.205280</td>\n",
       "      <td>0.555610</td>\n",
       "    </tr>\n",
       "    <tr>\n",
       "      <th>Humidity</th>\n",
       "      <td>-0.156964</td>\n",
       "      <td>1.000000</td>\n",
       "      <td>-0.029459</td>\n",
       "      <td>0.299746</td>\n",
       "      <td>0.932724</td>\n",
       "      <td>0.046240</td>\n",
       "    </tr>\n",
       "    <tr>\n",
       "      <th>Light</th>\n",
       "      <td>0.688571</td>\n",
       "      <td>-0.029459</td>\n",
       "      <td>1.000000</td>\n",
       "      <td>0.448105</td>\n",
       "      <td>0.223329</td>\n",
       "      <td>0.914850</td>\n",
       "    </tr>\n",
       "    <tr>\n",
       "      <th>CO2</th>\n",
       "      <td>0.449989</td>\n",
       "      <td>0.299746</td>\n",
       "      <td>0.448105</td>\n",
       "      <td>1.000000</td>\n",
       "      <td>0.477965</td>\n",
       "      <td>0.501582</td>\n",
       "    </tr>\n",
       "    <tr>\n",
       "      <th>HumidityRatio</th>\n",
       "      <td>0.205280</td>\n",
       "      <td>0.932724</td>\n",
       "      <td>0.223329</td>\n",
       "      <td>0.477965</td>\n",
       "      <td>1.000000</td>\n",
       "      <td>0.257324</td>\n",
       "    </tr>\n",
       "    <tr>\n",
       "      <th>Occupancy</th>\n",
       "      <td>0.555610</td>\n",
       "      <td>0.046240</td>\n",
       "      <td>0.914850</td>\n",
       "      <td>0.501582</td>\n",
       "      <td>0.257324</td>\n",
       "      <td>1.000000</td>\n",
       "    </tr>\n",
       "  </tbody>\n",
       "</table></div>"
      ],
      "text/plain": [
       "               Temperature  Humidity     Light       CO2  HumidityRatio  \\\n",
       "Temperature       1.000000 -0.156964  0.688571  0.449989       0.205280   \n",
       "Humidity         -0.156964  1.000000 -0.029459  0.299746       0.932724   \n",
       "Light             0.688571 -0.029459  1.000000  0.448105       0.223329   \n",
       "CO2               0.449989  0.299746  0.448105  1.000000       0.477965   \n",
       "HumidityRatio     0.205280  0.932724  0.223329  0.477965       1.000000   \n",
       "Occupancy         0.555610  0.046240  0.914850  0.501582       0.257324   \n",
       "\n",
       "               Occupancy  \n",
       "Temperature     0.555610  \n",
       "Humidity        0.046240  \n",
       "Light           0.914850  \n",
       "CO2             0.501582  \n",
       "HumidityRatio   0.257324  \n",
       "Occupancy       1.000000  "
      ]
     },
     "execution_count": 20,
     "metadata": {},
     "output_type": "execute_result"
    }
   ],
   "source": [
    "df.corr()"
   ]
  },
  {
   "cell_type": "code",
   "execution_count": 21,
   "id": "843a54ba",
   "metadata": {},
   "outputs": [
    {
     "data": {
      "text/plain": [
       "<AxesSubplot:>"
      ]
     },
     "execution_count": 21,
     "metadata": {},
     "output_type": "execute_result"
    },
    {
     "data": {
      "image/png": "[encoded data removed]",
      "text/plain": [
       "<Figure size 432x288 with 2 Axes>"
      ]
     },
     "metadata": {
      "needs_background": "light"
     },
     "output_type": "display_data"
    }
   ],
   "source": [
    "sns.heatmap(df.corr(),annot=True)"
   ]
  },
  {
   "cell_type": "code",
   "execution_count": 29,
   "id": "f34718c1",
   "metadata": {},
   "outputs": [
    {
     "data": {
      "text/plain": [
       "<seaborn.axisgrid.FacetGrid at 0x211e0e72970>"
      ]
     },
     "execution_count": 29,
     "metadata": {},
     "output_type": "execute_result"
    },
    {
     "data": {
      "image/png": "[encoded data removed]",
      "text/plain": [
       "<Figure size 594.75x360 with 1 Axes>"
      ]
     },
     "metadata": {
      "needs_background": "light"
     },
     "output_type": "display_data"
    }
   ],
   "source": [
    "sns.displot(data=df,x='Light',kind='kde', aspect=1.5,hue='Occupied')"
   ]
  },
  {
   "cell_type": "code",
   "execution_count": 30,
   "id": "a65e908e",
   "metadata": {},
   "outputs": [
    {
     "data": {
      "text/plain": [
       "<seaborn.axisgrid.FacetGrid at 0x211e0e729d0>"
      ]
     },
     "execution_count": 30,
     "metadata": {},
     "output_type": "execute_result"
    },
    {
     "data": {
      "image/png": "[encoded data removed]",
      "text/plain": [
       "<Figure size 594.75x360 with 1 Axes>"
      ]
     },
     "metadata": {
      "needs_background": "light"
     },
     "output_type": "display_data"
    }
   ],
   "source": [
    "sns.displot(data=df,x='CO2',kind='kde', aspect=1.5,hue='Occupied')"
   ]
  },
  {
   "cell_type": "code",
   "execution_count": 32,
   "id": "1c779569",
   "metadata": {},
   "outputs": [
    {
     "data": {
      "text/html": [
       "<div><div id=560e2ae4-6941-4528-aeba-b2f5c81e92e1 style=\"display:none; background-color:#9D6CFF; color:white; width:200px; height:30px; padding-left:5px; border-radius:4px; flex-direction:row; justify-content:space-around; align-items:center;\" onmouseover=\"this.style.backgroundColor='#BA9BF8'\" onmouseout=\"this.style.backgroundColor='#9D6CFF'\" onclick=\"window.commands?.execute('create-mitosheet-from-dataframe-output');\">See Full Dataframe in Mito</div> <script> if (window.commands.hasCommand('create-mitosheet-from-dataframe-output')) document.getElementById('560e2ae4-6941-4528-aeba-b2f5c81e92e1').style.display = 'flex' </script> <table border=\"1\" class=\"dataframe\">\n",
       "  <thead>\n",
       "    <tr style=\"text-align: right;\">\n",
       "      <th></th>\n",
       "      <th>date</th>\n",
       "      <th>Temperature</th>\n",
       "      <th>Humidity</th>\n",
       "      <th>Light</th>\n",
       "      <th>CO2</th>\n",
       "      <th>HumidityRatio</th>\n",
       "      <th>Occupancy</th>\n",
       "      <th>Occupied</th>\n",
       "    </tr>\n",
       "  </thead>\n",
       "  <tbody>\n",
       "    <tr>\n",
       "      <th>0</th>\n",
       "      <td>2015-02-02 14:19:00</td>\n",
       "      <td>23.7000</td>\n",
       "      <td>26.272</td>\n",
       "      <td>585.200000</td>\n",
       "      <td>749.200000</td>\n",
       "      <td>0.004764</td>\n",
       "      <td>1</td>\n",
       "      <td>yes</td>\n",
       "    </tr>\n",
       "    <tr>\n",
       "      <th>1</th>\n",
       "      <td>2015-02-02 14:19:59</td>\n",
       "      <td>23.7180</td>\n",
       "      <td>26.290</td>\n",
       "      <td>578.400000</td>\n",
       "      <td>760.400000</td>\n",
       "      <td>0.004773</td>\n",
       "      <td>1</td>\n",
       "      <td>yes</td>\n",
       "    </tr>\n",
       "    <tr>\n",
       "      <th>2</th>\n",
       "      <td>2015-02-02 14:21:00</td>\n",
       "      <td>23.7300</td>\n",
       "      <td>26.230</td>\n",
       "      <td>572.666667</td>\n",
       "      <td>769.666667</td>\n",
       "      <td>0.004765</td>\n",
       "      <td>1</td>\n",
       "      <td>yes</td>\n",
       "    </tr>\n",
       "    <tr>\n",
       "      <th>3</th>\n",
       "      <td>2015-02-02 14:22:00</td>\n",
       "      <td>23.7225</td>\n",
       "      <td>26.125</td>\n",
       "      <td>493.750000</td>\n",
       "      <td>774.750000</td>\n",
       "      <td>0.004744</td>\n",
       "      <td>1</td>\n",
       "      <td>yes</td>\n",
       "    </tr>\n",
       "    <tr>\n",
       "      <th>4</th>\n",
       "      <td>2015-02-02 14:23:00</td>\n",
       "      <td>23.7540</td>\n",
       "      <td>26.200</td>\n",
       "      <td>488.600000</td>\n",
       "      <td>779.000000</td>\n",
       "      <td>0.004767</td>\n",
       "      <td>1</td>\n",
       "      <td>yes</td>\n",
       "    </tr>\n",
       "  </tbody>\n",
       "</table></div>"
      ],
      "text/plain": [
       "                  date  Temperature  Humidity       Light         CO2  \\\n",
       "0  2015-02-02 14:19:00      23.7000    26.272  585.200000  749.200000   \n",
       "1  2015-02-02 14:19:59      23.7180    26.290  578.400000  760.400000   \n",
       "2  2015-02-02 14:21:00      23.7300    26.230  572.666667  769.666667   \n",
       "3  2015-02-02 14:22:00      23.7225    26.125  493.750000  774.750000   \n",
       "4  2015-02-02 14:23:00      23.7540    26.200  488.600000  779.000000   \n",
       "\n",
       "   HumidityRatio  Occupancy Occupied  \n",
       "0       0.004764          1      yes  \n",
       "1       0.004773          1      yes  \n",
       "2       0.004765          1      yes  \n",
       "3       0.004744          1      yes  \n",
       "4       0.004767          1      yes  "
      ]
     },
     "execution_count": 32,
     "metadata": {},
     "output_type": "execute_result"
    }
   ],
   "source": [
    "df.head()"
   ]
  },
  {
   "cell_type": "code",
   "execution_count": 33,
   "id": "f8f96b5b",
   "metadata": {},
   "outputs": [],
   "source": [
    "x=df[['Temperature','Humidity','Light','CO2','HumidityRatio']]"
   ]
  },
  {
   "cell_type": "code",
   "execution_count": 34,
   "id": "f1edb551",
   "metadata": {},
   "outputs": [
    {
     "data": {
      "text/html": [
       "<div><div id=9e58a7b7-f309-431c-b7cb-9f05fea0568e style=\"display:none; background-color:#9D6CFF; color:white; width:200px; height:30px; padding-left:5px; border-radius:4px; flex-direction:row; justify-content:space-around; align-items:center;\" onmouseover=\"this.style.backgroundColor='#BA9BF8'\" onmouseout=\"this.style.backgroundColor='#9D6CFF'\" onclick=\"window.commands?.execute('create-mitosheet-from-dataframe-output');\">See Full Dataframe in Mito</div> <script> if (window.commands.hasCommand('create-mitosheet-from-dataframe-output')) document.getElementById('9e58a7b7-f309-431c-b7cb-9f05fea0568e').style.display = 'flex' </script> <table border=\"1\" class=\"dataframe\">\n",
       "  <thead>\n",
       "    <tr style=\"text-align: right;\">\n",
       "      <th></th>\n",
       "      <th>Temperature</th>\n",
       "      <th>Humidity</th>\n",
       "      <th>Light</th>\n",
       "      <th>CO2</th>\n",
       "      <th>HumidityRatio</th>\n",
       "    </tr>\n",
       "  </thead>\n",
       "  <tbody>\n",
       "    <tr>\n",
       "      <th>0</th>\n",
       "      <td>23.7000</td>\n",
       "      <td>26.272</td>\n",
       "      <td>585.200000</td>\n",
       "      <td>749.200000</td>\n",
       "      <td>0.004764</td>\n",
       "    </tr>\n",
       "    <tr>\n",
       "      <th>1</th>\n",
       "      <td>23.7180</td>\n",
       "      <td>26.290</td>\n",
       "      <td>578.400000</td>\n",
       "      <td>760.400000</td>\n",
       "      <td>0.004773</td>\n",
       "    </tr>\n",
       "    <tr>\n",
       "      <th>2</th>\n",
       "      <td>23.7300</td>\n",
       "      <td>26.230</td>\n",
       "      <td>572.666667</td>\n",
       "      <td>769.666667</td>\n",
       "      <td>0.004765</td>\n",
       "    </tr>\n",
       "    <tr>\n",
       "      <th>3</th>\n",
       "      <td>23.7225</td>\n",
       "      <td>26.125</td>\n",
       "      <td>493.750000</td>\n",
       "      <td>774.750000</td>\n",
       "      <td>0.004744</td>\n",
       "    </tr>\n",
       "    <tr>\n",
       "      <th>4</th>\n",
       "      <td>23.7540</td>\n",
       "      <td>26.200</td>\n",
       "      <td>488.600000</td>\n",
       "      <td>779.000000</td>\n",
       "      <td>0.004767</td>\n",
       "    </tr>\n",
       "  </tbody>\n",
       "</table></div>"
      ],
      "text/plain": [
       "   Temperature  Humidity       Light         CO2  HumidityRatio\n",
       "0      23.7000    26.272  585.200000  749.200000       0.004764\n",
       "1      23.7180    26.290  578.400000  760.400000       0.004773\n",
       "2      23.7300    26.230  572.666667  769.666667       0.004765\n",
       "3      23.7225    26.125  493.750000  774.750000       0.004744\n",
       "4      23.7540    26.200  488.600000  779.000000       0.004767"
      ]
     },
     "execution_count": 34,
     "metadata": {},
     "output_type": "execute_result"
    }
   ],
   "source": [
    "x.head()"
   ]
  },
  {
   "cell_type": "code",
   "execution_count": 35,
   "id": "2fe17eba",
   "metadata": {},
   "outputs": [],
   "source": [
    "y=df[['Occupancy']]"
   ]
  },
  {
   "cell_type": "code",
   "execution_count": 36,
   "id": "29ae510d",
   "metadata": {},
   "outputs": [
    {
     "data": {
      "text/html": [
       "<div><div id=c12bea9a-47b9-42df-aa1a-05e665c894e4 style=\"display:none; background-color:#9D6CFF; color:white; width:200px; height:30px; padding-left:5px; border-radius:4px; flex-direction:row; justify-content:space-around; align-items:center;\" onmouseover=\"this.style.backgroundColor='#BA9BF8'\" onmouseout=\"this.style.backgroundColor='#9D6CFF'\" onclick=\"window.commands?.execute('create-mitosheet-from-dataframe-output');\">See Full Dataframe in Mito</div> <script> if (window.commands.hasCommand('create-mitosheet-from-dataframe-output')) document.getElementById('c12bea9a-47b9-42df-aa1a-05e665c894e4').style.display = 'flex' </script> <table border=\"1\" class=\"dataframe\">\n",
       "  <thead>\n",
       "    <tr style=\"text-align: right;\">\n",
       "      <th></th>\n",
       "      <th>Occupancy</th>\n",
       "    </tr>\n",
       "  </thead>\n",
       "  <tbody>\n",
       "    <tr>\n",
       "      <th>0</th>\n",
       "      <td>1</td>\n",
       "    </tr>\n",
       "    <tr>\n",
       "      <th>1</th>\n",
       "      <td>1</td>\n",
       "    </tr>\n",
       "    <tr>\n",
       "      <th>2</th>\n",
       "      <td>1</td>\n",
       "    </tr>\n",
       "    <tr>\n",
       "      <th>3</th>\n",
       "      <td>1</td>\n",
       "    </tr>\n",
       "    <tr>\n",
       "      <th>4</th>\n",
       "      <td>1</td>\n",
       "    </tr>\n",
       "  </tbody>\n",
       "</table></div>"
      ],
      "text/plain": [
       "   Occupancy\n",
       "0          1\n",
       "1          1\n",
       "2          1\n",
       "3          1\n",
       "4          1"
      ]
     },
     "execution_count": 36,
     "metadata": {},
     "output_type": "execute_result"
    }
   ],
   "source": [
    "y.head()"
   ]
  },
  {
   "cell_type": "code",
   "execution_count": 37,
   "id": "891642e6",
   "metadata": {},
   "outputs": [
    {
     "data": {
      "text/plain": [
       "(20560, 5)"
      ]
     },
     "execution_count": 37,
     "metadata": {},
     "output_type": "execute_result"
    }
   ],
   "source": [
    "x.shape"
   ]
  },
  {
   "cell_type": "code",
   "execution_count": 38,
   "id": "31b232cf",
   "metadata": {},
   "outputs": [
    {
     "data": {
      "text/plain": [
       "(20560, 1)"
      ]
     },
     "execution_count": 38,
     "metadata": {},
     "output_type": "execute_result"
    }
   ],
   "source": [
    "y.shape"
   ]
  },
  {
   "cell_type": "code",
   "execution_count": 39,
   "id": "65af07f3",
   "metadata": {},
   "outputs": [],
   "source": [
    "from sklearn.tree import DecisionTreeClassifier\n",
    "from sklearn.model_selection import train_test_split"
   ]
  },
  {
   "cell_type": "code",
   "execution_count": 40,
   "id": "55fffc64",
   "metadata": {},
   "outputs": [],
   "source": [
    "x_train,x_test,y_train,y_test=train_test_split(x,y,test_size=0.3)"
   ]
  },
  {
   "cell_type": "code",
   "execution_count": 41,
   "id": "41b07b3e",
   "metadata": {},
   "outputs": [],
   "source": [
    "model=DecisionTreeClassifier()"
   ]
  },
  {
   "cell_type": "code",
   "execution_count": 42,
   "id": "9aac5e4d",
   "metadata": {},
   "outputs": [
    {
     "data": {
      "text/plain": [
       "DecisionTreeClassifier()"
      ]
     },
     "execution_count": 42,
     "metadata": {},
     "output_type": "execute_result"
    }
   ],
   "source": [
    "model.fit(x_train,y_train)"
   ]
  },
  {
   "cell_type": "code",
   "execution_count": 43,
   "id": "2788425a",
   "metadata": {},
   "outputs": [],
   "source": [
    "y_pred=model.predict(x_test)"
   ]
  },
  {
   "cell_type": "code",
   "execution_count": 44,
   "id": "e9501ffe",
   "metadata": {},
   "outputs": [],
   "source": [
    "training_accuracy=model.score(x_train,y_train)"
   ]
  },
  {
   "cell_type": "code",
   "execution_count": 45,
   "id": "5b99b691",
   "metadata": {},
   "outputs": [],
   "source": [
    "testing_accuracy=model.score(x_test,y_test)"
   ]
  },
  {
   "cell_type": "code",
   "execution_count": 46,
   "id": "4a1d9014",
   "metadata": {},
   "outputs": [
    {
     "name": "stdout",
     "output_type": "stream",
     "text": [
      "1.0\n"
     ]
    }
   ],
   "source": [
    "print(training_accuracy)"
   ]
  },
  {
   "cell_type": "code",
   "execution_count": 47,
   "id": "a03fc65d",
   "metadata": {},
   "outputs": [
    {
     "name": "stdout",
     "output_type": "stream",
     "text": [
      "0.9899481193255513\n"
     ]
    }
   ],
   "source": [
    "print(testing_accuracy)"
   ]
  },
  {
   "cell_type": "code",
   "execution_count": 48,
   "id": "93976560",
   "metadata": {},
   "outputs": [],
   "source": [
    "from sklearn.ensemble import RandomForestClassifier\n",
    "from sklearn.model_selection import train_test_split"
   ]
  },
  {
   "cell_type": "code",
   "execution_count": 50,
   "id": "1ba044ef",
   "metadata": {},
   "outputs": [],
   "source": [
    "x_train,x_test,y_train,y_test=train_test_split(x,y,test_size=0.3)"
   ]
  },
  {
   "cell_type": "code",
   "execution_count": 49,
   "id": "73d2d556",
   "metadata": {},
   "outputs": [],
   "source": [
    "model1=RandomForestClassifier()"
   ]
  },
  {
   "cell_type": "code",
   "execution_count": 51,
   "id": "6146e071",
   "metadata": {},
   "outputs": [
    {
     "name": "stderr",
     "output_type": "stream",
     "text": [
      "<ipython-input-51-05c88abb74fb>:1: DataConversionWarning: A column-vector y was passed when a 1d array was expected. Please change the shape of y to (n_samples,), for example using ravel().\n",
      "  model1.fit(x_train,y_train)\n"
     ]
    },
    {
     "data": {
      "text/plain": [
       "RandomForestClassifier()"
      ]
     },
     "execution_count": 51,
     "metadata": {},
     "output_type": "execute_result"
    }
   ],
   "source": [
    "model1.fit(x_train,y_train)"
   ]
  },
  {
   "cell_type": "code",
   "execution_count": 52,
   "id": "7800e509",
   "metadata": {},
   "outputs": [],
   "source": [
    "y_pred=model1.predict(x_test)"
   ]
  },
  {
   "cell_type": "code",
   "execution_count": 53,
   "id": "b9ea2f22",
   "metadata": {},
   "outputs": [],
   "source": [
    "trn_accuracy=model1.score(x_train,y_train)\n",
    "tst_accuracy=model1.score(x_test,y_test)"
   ]
  },
  {
   "cell_type": "code",
   "execution_count": 55,
   "id": "79dc8fcb",
   "metadata": {},
   "outputs": [
    {
     "name": "stdout",
     "output_type": "stream",
     "text": [
      "1.0\n",
      "0.993514915693904\n"
     ]
    }
   ],
   "source": [
    "print(trn_accuracy)\n",
    "print(tst_accuracy)"
   ]
  },
  {
   "cell_type": "code",
   "execution_count": 56,
   "id": "6463f717",
   "metadata": {},
   "outputs": [],
   "source": [
    "from sklearn.neighbors import KNeighborsClassifier\n",
    "from sklearn.model_selection import train_test_split"
   ]
  },
  {
   "cell_type": "code",
   "execution_count": 57,
   "id": "5f0f3938",
   "metadata": {},
   "outputs": [],
   "source": [
    "x_train,x_test,y_train,y_test=train_test_split(x,y,test_size=0.3)"
   ]
  },
  {
   "cell_type": "code",
   "execution_count": 58,
   "id": "c7a06f78",
   "metadata": {},
   "outputs": [],
   "source": [
    "model2=KNeighborsClassifier()"
   ]
  },
  {
   "cell_type": "code",
   "execution_count": 60,
   "id": "3df8024e",
   "metadata": {},
   "outputs": [
    {
     "name": "stderr",
     "output_type": "stream",
     "text": [
      "C:\\Users\\INDICHI\\Anaconda3\\lib\\site-packages\\sklearn\\neighbors\\_classification.py:179: DataConversionWarning: A column-vector y was passed when a 1d array was expected. Please change the shape of y to (n_samples,), for example using ravel().\n",
      "  return self._fit(X, y)\n"
     ]
    },
    {
     "data": {
      "text/plain": [
       "KNeighborsClassifier()"
      ]
     },
     "execution_count": 60,
     "metadata": {},
     "output_type": "execute_result"
    }
   ],
   "source": [
    "model2.fit(x_train,y_train)"
   ]
  },
  {
   "cell_type": "code",
   "execution_count": 61,
   "id": "5f22641e",
   "metadata": {},
   "outputs": [],
   "source": [
    "y_predict=model2.predict(x_test)"
   ]
  },
  {
   "cell_type": "code",
   "execution_count": 62,
   "id": "fc1ed23a",
   "metadata": {},
   "outputs": [],
   "source": [
    "train_acc=model2.score(x_train,y_train)\n",
    "test_acc=model2.score(x_test,y_test)"
   ]
  },
  {
   "cell_type": "code",
   "execution_count": 63,
   "id": "d5eb8351",
   "metadata": {},
   "outputs": [
    {
     "name": "stdout",
     "output_type": "stream",
     "text": [
      "0.99082823790995\n",
      "0.9905966277561609\n"
     ]
    }
   ],
   "source": [
    "print(train_acc)\n",
    "print(test_acc)"
   ]
  },
  {
   "cell_type": "code",
   "execution_count": 64,
   "id": "c1fae8fd",
   "metadata": {},
   "outputs": [],
   "source": [
    "from sklearn.naive_bayes import GaussianNB\n",
    "from sklearn.model_selection import train_test_split"
   ]
  },
  {
   "cell_type": "code",
   "execution_count": 65,
   "id": "45e0ef49",
   "metadata": {},
   "outputs": [],
   "source": [
    "x_train,x_test,y_train,y_test=train_test_split(x,y,test_size=0.3)"
   ]
  },
  {
   "cell_type": "code",
   "execution_count": 66,
   "id": "bd0c98cc",
   "metadata": {},
   "outputs": [],
   "source": [
    "model3=GaussianNB()"
   ]
  },
  {
   "cell_type": "code",
   "execution_count": 67,
   "id": "4d189a40",
   "metadata": {},
   "outputs": [
    {
     "name": "stderr",
     "output_type": "stream",
     "text": [
      "C:\\Users\\INDICHI\\Anaconda3\\lib\\site-packages\\sklearn\\utils\\validation.py:63: DataConversionWarning: A column-vector y was passed when a 1d array was expected. Please change the shape of y to (n_samples, ), for example using ravel().\n",
      "  return f(*args, **kwargs)\n"
     ]
    },
    {
     "data": {
      "text/plain": [
       "GaussianNB()"
      ]
     },
     "execution_count": 67,
     "metadata": {},
     "output_type": "execute_result"
    }
   ],
   "source": [
    "model3.fit(x_train,y_train)"
   ]
  },
  {
   "cell_type": "code",
   "execution_count": 68,
   "id": "9f71d4cb",
   "metadata": {},
   "outputs": [],
   "source": [
    "y_predic=model3.predict(x_test)"
   ]
  },
  {
   "cell_type": "code",
   "execution_count": 69,
   "id": "d69b6eb7",
   "metadata": {},
   "outputs": [],
   "source": [
    "train_acc=model3.score(x_train,y_train)\n",
    "test_acc=model3.score(x_test,y_test)"
   ]
  },
  {
   "cell_type": "code",
   "execution_count": 70,
   "id": "bfe73bbe",
   "metadata": {},
   "outputs": [
    {
     "name": "stdout",
     "output_type": "stream",
     "text": [
      "0.9658838243468594\n"
     ]
    }
   ],
   "source": [
    "print(train_acc)"
   ]
  },
  {
   "cell_type": "code",
   "execution_count": 71,
   "id": "0ab51d05",
   "metadata": {},
   "outputs": [
    {
     "name": "stdout",
     "output_type": "stream",
     "text": [
      "0.9711413748378729\n"
     ]
    }
   ],
   "source": [
    "print(test_acc)"
   ]
  },
  {
   "cell_type": "code",
   "execution_count": null,
   "id": "6311ba4e",
   "metadata": {},
   "outputs": [],
   "source": []
  }
 ],
 "metadata": {
  "kernelspec": {
   "display_name": "Python 3",
   "language": "python",
   "name": "python3"
  },
  "language_info": {
   "codemirror_mode": {
    "name": "ipython",
    "version": 3
   },
   "file_extension": ".py",
   "mimetype": "text/x-python",
   "name": "python",
   "nbconvert_exporter": "python",
   "pygments_lexer": "ipython3",
   "version": "3.8.8"
  }
 },
 "nbformat": 4,
 "nbformat_minor": 5
}
